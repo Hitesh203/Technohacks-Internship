{
 "cells": [
  {
   "cell_type": "markdown",
   "id": "f3b025e2",
   "metadata": {},
   "source": [
    "# TECHNOHACKS EDUTECH INTERNSHIP-AUGUST 2023"
   ]
  },
  {
   "cell_type": "markdown",
   "id": "68b914cf",
   "metadata": {},
   "source": [
    "# Batch 7"
   ]
  },
  {
   "cell_type": "markdown",
   "id": "2b999129",
   "metadata": {},
   "source": [
    "## Task-9:Random Password Generator"
   ]
  },
  {
   "cell_type": "markdown",
   "id": "de3d4381",
   "metadata": {},
   "source": [
    "## Name: Hitesh Kumar K A"
   ]
  },
  {
   "cell_type": "code",
   "execution_count": 1,
   "id": "c8465f0a",
   "metadata": {},
   "outputs": [],
   "source": [
    "import random  \n",
    "####Creating a Function for a random password generator#####  \n",
    "def password_generator(char_length, num_length, symbol_length):  \n",
    "\n",
    "  \n",
    "    chars = \"abcdefghijklmnopqrstuvwxyzABCDEFGHIJKLMNOPQRSTUVWXYZ\"  \n",
    "    nums = \"0123456789\"  \n",
    "    symbols = \"!@#$%^&*()\"  \n",
    "  \n",
    "  \n",
    "    selectedChars = random.sample(chars, char_length)  \n",
    "    selectedNums = random.sample(nums, num_length)  \n",
    "    selectedSymbols = random.sample(symbols, symbol_length)  \n",
    "  \n",
    "    password_list = selectedChars + selectedNums + selectedSymbols  \n",
    "  \n",
    "    random.shuffle(password_list)  \n",
    "  \n",
    "    password_str = \"\".join(password_list)  \n",
    "  \n",
    "    return password_str  \n",
    "  \n"
   ]
  },
  {
   "cell_type": "code",
   "execution_count": 2,
   "id": "10a3cce5",
   "metadata": {},
   "outputs": [
    {
     "name": "stdout",
     "output_type": "stream",
     "text": [
      "Enter the Number of the Characters that you need in the password : 6\n",
      "Enter the Number of the Numbers that you need in the password : 4\n",
      "Enter the Number of the Symbols that you need in the password : 6\n",
      "The Randomly Generated Password is : JIs$Q18&c^z#9*0%\n"
     ]
    }
   ],
   "source": [
    "if __name__ == \"__main__\":  \n",
    "    char_length = int(input(\"Enter the Number of the Characters that you need in the password : \"))  \n",
    "    num_length = int(input(\"Enter the Number of the Numbers that you need in the password : \"))  \n",
    "    symbol_length = int(input(\"Enter the Number of the Symbols that you need in the password : \"))  \n",
    "    password = password_generator(char_length, num_length, symbol_length)  \n",
    "    print(\"The Randomly Generated Password is :\", password) \n"
   ]
  },
  {
   "cell_type": "code",
   "execution_count": null,
   "id": "b7e05cfd",
   "metadata": {},
   "outputs": [],
   "source": []
  }
 ],
 "metadata": {
  "kernelspec": {
   "display_name": "Python 3 (ipykernel)",
   "language": "python",
   "name": "python3"
  },
  "language_info": {
   "codemirror_mode": {
    "name": "ipython",
    "version": 3
   },
   "file_extension": ".py",
   "mimetype": "text/x-python",
   "name": "python",
   "nbconvert_exporter": "python",
   "pygments_lexer": "ipython3",
   "version": "3.10.9"
  }
 },
 "nbformat": 4,
 "nbformat_minor": 5
}
